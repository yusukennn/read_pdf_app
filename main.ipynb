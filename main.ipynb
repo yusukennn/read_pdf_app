{
 "cells": [
  {
   "cell_type": "code",
   "execution_count": 2,
   "metadata": {},
   "outputs": [
    {
     "ename": "ModuleNotFoundError",
     "evalue": "No module named '_tkinter'",
     "output_type": "error",
     "traceback": [
      "\u001b[0;31m---------------------------------------------------------------------------\u001b[0m",
      "\u001b[0;31mModuleNotFoundError\u001b[0m                       Traceback (most recent call last)",
      "\u001b[0;32m<ipython-input-2-03a6bccce729>\u001b[0m in \u001b[0;36m<module>\u001b[0;34m\u001b[0m\n\u001b[0;32m----> 1\u001b[0;31m \u001b[0;32mimport\u001b[0m \u001b[0mtkinter\u001b[0m \u001b[0;32mas\u001b[0m \u001b[0mtk\u001b[0m\u001b[0;34m\u001b[0m\u001b[0;34m\u001b[0m\u001b[0m\n\u001b[0m\u001b[1;32m      2\u001b[0m \u001b[0;34m\u001b[0m\u001b[0m\n\u001b[1;32m      3\u001b[0m \u001b[0;31m#ボタンが押された時に呼び出される\u001b[0m\u001b[0;34m\u001b[0m\u001b[0;34m\u001b[0m\u001b[0;34m\u001b[0m\u001b[0m\n\u001b[1;32m      4\u001b[0m \u001b[0;32mdef\u001b[0m \u001b[0maction_btn_press\u001b[0m\u001b[0;34m(\u001b[0m\u001b[0;34m)\u001b[0m\u001b[0;34m:\u001b[0m\u001b[0;34m\u001b[0m\u001b[0;34m\u001b[0m\u001b[0m\n\u001b[1;32m      5\u001b[0m     \u001b[0mprint\u001b[0m\u001b[0;34m(\u001b[0m\u001b[0;34m\"ボタンが押されました\"\u001b[0m\u001b[0;34m)\u001b[0m\u001b[0;34m\u001b[0m\u001b[0;34m\u001b[0m\u001b[0m\n",
      "\u001b[0;32m/usr/local/Cellar/python@3.9/3.9.5/Frameworks/Python.framework/Versions/3.9/lib/python3.9/tkinter/__init__.py\u001b[0m in \u001b[0;36m<module>\u001b[0;34m\u001b[0m\n\u001b[1;32m     35\u001b[0m \u001b[0;32mimport\u001b[0m \u001b[0mtypes\u001b[0m\u001b[0;34m\u001b[0m\u001b[0;34m\u001b[0m\u001b[0m\n\u001b[1;32m     36\u001b[0m \u001b[0;34m\u001b[0m\u001b[0m\n\u001b[0;32m---> 37\u001b[0;31m \u001b[0;32mimport\u001b[0m \u001b[0m_tkinter\u001b[0m \u001b[0;31m# If this fails your Python may not be configured for Tk\u001b[0m\u001b[0;34m\u001b[0m\u001b[0;34m\u001b[0m\u001b[0m\n\u001b[0m\u001b[1;32m     38\u001b[0m \u001b[0mTclError\u001b[0m \u001b[0;34m=\u001b[0m \u001b[0m_tkinter\u001b[0m\u001b[0;34m.\u001b[0m\u001b[0mTclError\u001b[0m\u001b[0;34m\u001b[0m\u001b[0;34m\u001b[0m\u001b[0m\n\u001b[1;32m     39\u001b[0m \u001b[0;32mfrom\u001b[0m \u001b[0mtkinter\u001b[0m\u001b[0;34m.\u001b[0m\u001b[0mconstants\u001b[0m \u001b[0;32mimport\u001b[0m \u001b[0;34m*\u001b[0m\u001b[0;34m\u001b[0m\u001b[0;34m\u001b[0m\u001b[0m\n",
      "\u001b[0;31mModuleNotFoundError\u001b[0m: No module named '_tkinter'"
     ]
    }
   ],
   "source": [
    "import tkinter as tk\n",
    "\n",
    "#ボタンが押された時に呼び出される\n",
    "def action_btn_press():\n",
    "    print(\"ボタンが押されました\")\n",
    "\n",
    "def print_txtval():\n",
    "    #テキストボックスの内容の取得\n",
    "    val_en = en.get()\n",
    "    print(val_en)\n",
    "\n",
    "root = tk.Tk()\n",
    "root.title(\"アクションの組み込み\")\n",
    "root.geometry(\"350x150\")\n",
    "lb = tk.Label(text=\"ラベル\")\n",
    "en = tk.Entry()\n",
    "bt = tk.Button(text=\"ボタン\", command=print_txtval)\n",
    "[widget.pack() for tk.widget in (lb, en, bt)]\n",
    "root.mainloop()"
   ]
  },
  {
   "cell_type": "code",
   "execution_count": 14,
   "metadata": {},
   "outputs": [
    {
     "ename": "NameError",
     "evalue": "name 'Application' is not defined",
     "output_type": "error",
     "traceback": [
      "\u001b[0;31m---------------------------------------------------------------------------\u001b[0m",
      "\u001b[0;31mNameError\u001b[0m                                 Traceback (most recent call last)",
      "\u001b[0;32m<ipython-input-14-5458e367245a>\u001b[0m in \u001b[0;36m<module>\u001b[0;34m\u001b[0m\n\u001b[1;32m      1\u001b[0m \u001b[0;32mimport\u001b[0m \u001b[0mtkinter\u001b[0m \u001b[0;32mas\u001b[0m \u001b[0mtk\u001b[0m\u001b[0;34m\u001b[0m\u001b[0;34m\u001b[0m\u001b[0m\n\u001b[1;32m      2\u001b[0m \u001b[0;34m\u001b[0m\u001b[0m\n\u001b[0;32m----> 3\u001b[0;31m \u001b[0;32mclass\u001b[0m \u001b[0mApplication\u001b[0m\u001b[0;34m(\u001b[0m\u001b[0mtk\u001b[0m\u001b[0;34m.\u001b[0m\u001b[0mFrame\u001b[0m\u001b[0;34m)\u001b[0m\u001b[0;34m:\u001b[0m\u001b[0;34m\u001b[0m\u001b[0;34m\u001b[0m\u001b[0m\n\u001b[0m\u001b[1;32m      4\u001b[0m     \u001b[0;32mdef\u001b[0m \u001b[0m__init__\u001b[0m\u001b[0;34m(\u001b[0m\u001b[0mself\u001b[0m\u001b[0;34m,\u001b[0m \u001b[0mmaster\u001b[0m\u001b[0;34m=\u001b[0m\u001b[0;32mNone\u001b[0m\u001b[0;34m)\u001b[0m\u001b[0;34m:\u001b[0m\u001b[0;34m\u001b[0m\u001b[0;34m\u001b[0m\u001b[0m\n\u001b[1;32m      5\u001b[0m         \u001b[0msuper\u001b[0m\u001b[0;34m(\u001b[0m\u001b[0;34m)\u001b[0m\u001b[0;34m.\u001b[0m\u001b[0m__init__\u001b[0m\u001b[0;34m(\u001b[0m\u001b[0mmaster\u001b[0m\u001b[0;34m)\u001b[0m\u001b[0;34m\u001b[0m\u001b[0;34m\u001b[0m\u001b[0m\n",
      "\u001b[0;32m<ipython-input-14-5458e367245a>\u001b[0m in \u001b[0;36mApplication\u001b[0;34m()\u001b[0m\n\u001b[1;32m     25\u001b[0m \u001b[0;34m\u001b[0m\u001b[0m\n\u001b[1;32m     26\u001b[0m     \u001b[0mroot\u001b[0m \u001b[0;34m=\u001b[0m \u001b[0mtk\u001b[0m\u001b[0;34m.\u001b[0m\u001b[0mTk\u001b[0m\u001b[0;34m(\u001b[0m\u001b[0;34m)\u001b[0m\u001b[0;34m\u001b[0m\u001b[0;34m\u001b[0m\u001b[0m\n\u001b[0;32m---> 27\u001b[0;31m     \u001b[0mapp\u001b[0m \u001b[0;34m=\u001b[0m \u001b[0mApplication\u001b[0m\u001b[0;34m(\u001b[0m\u001b[0mmaster\u001b[0m\u001b[0;34m=\u001b[0m\u001b[0mroot\u001b[0m\u001b[0;34m)\u001b[0m\u001b[0;34m\u001b[0m\u001b[0;34m\u001b[0m\u001b[0m\n\u001b[0m\u001b[1;32m     28\u001b[0m     \u001b[0mapp\u001b[0m\u001b[0;34m.\u001b[0m\u001b[0mmainloop\u001b[0m\u001b[0;34m(\u001b[0m\u001b[0;34m)\u001b[0m\u001b[0;34m\u001b[0m\u001b[0;34m\u001b[0m\u001b[0m\n",
      "\u001b[0;31mNameError\u001b[0m: name 'Application' is not defined"
     ]
    }
   ],
   "source": [
    "import tkinter as tk \n",
    "\n",
    "class Application(tk.Frame):\n",
    "    def __init__(self, master=None):\n",
    "        super().__init__(master)\n",
    "        master.title(\"テキストボックス内容の取得\")\n",
    "        master.geometry(\"350x150\")\n",
    "        self.pack()\n",
    "        self.create_widgets()\n",
    "    # 部品の作成/設定\n",
    "    def create_widgets(self):\n",
    "        self.lb = tk.Label(self)\n",
    "        self.lb[\"text\"] = \"ラベル\"\n",
    "        self.lb.pack(side=\"top\")\n",
    "        self.en = tk.Entry(self)\n",
    "        self.en.pack()\n",
    "        self.en.focus_set()\n",
    "        self.bt = tk.Button(self)\n",
    "\n",
    "        self.bt = tk.Button(text=\"ボタン\", command=self.print_txtval)\n",
    "\n",
    "    def print_txtval(self):\n",
    "        val_en = self.en.get()\n",
    "        print(val_en)\n",
    "    \n",
    "    root = tk.Tk()\n",
    "    app = Application(master=root)\n",
    "    app.mainloop() "
   ]
  },
  {
   "cell_type": "code",
   "execution_count": 15,
   "metadata": {},
   "outputs": [],
   "source": [
    "import tkinter as tk\n",
    "root = tk.Tk()\n",
    "root.geometry(\"250x250\")\n",
    "ms_dict = {}\n",
    "for relief_val in [\"flat\", \"raised\", \"sunken\", \"groove\", \"ridge\"]:\n",
    "    ms_dict[relief_val] = tk.Message(text=relief_val, relief=relief_val, bd=10)\n",
    "    ms_dict[relief_val].pack()\n",
    "root.mainloop()"
   ]
  },
  {
   "cell_type": "markdown",
   "metadata": {},
   "source": []
  },
  {
   "cell_type": "code",
   "execution_count": 1,
   "metadata": {},
   "outputs": [],
   "source": [
    "import tkinter as tk\n",
    "from tkinter import filedialog\n",
    "def get_filepath():\n",
    "    # ファイルの拡張子の指定\n",
    "    filetype_list = [(\"text file\", \".txt\"),(\"pdf file\", \".pdf\")]\n",
    "    # ファイルパスの取得\n",
    "    filepath = filedialog.askopenfilenames(initialdir=\"/home/suteab12\", filetypes=filetype_list, title=\"select file\")\n",
    "    msessage[\"text\"] = filepath\n",
    "\n",
    "root = tk.Tk()\n",
    "root.geometry(\"1000x800\")\n",
    "root.title(\"filedialog\")\n",
    "msessage = tk.Message(root, text=\"file path\", width=600)\n",
    "button = tk.Button(text=\"get_filepath\", command=get_filepath)\n",
    "[widget.pack() for widget in (msessage, button)]\n",
    "root.mainloop()"
   ]
  },
  {
   "cell_type": "code",
   "execution_count": 6,
   "metadata": {},
   "outputs": [],
   "source": [
    "\n",
    "import os,sys\n",
    "from tkinter import *\n",
    "from tkinter import ttk\n",
    "from tkinter import messagebox\n",
    "from tkinter import filedialog\n",
    "from pathlib import Path\n",
    "\n",
    "# フォルダ指定の関数\n",
    "def dirdialog_clicked():\n",
    "    iDir = os.path.abspath(Path().resolve())\n",
    "    iDirPath = filedialog.askdirectory(initialdir = iDir)\n",
    "    entry1.set(iDirPath)\n",
    "\n",
    "# ファイル指定の関数\n",
    "def filedialog_clicked():\n",
    "    fTyp = [(\"\", \"*\")]\n",
    "    iFile = os.path.abspath(Path().resolve()) #os.path.dirname(__file__)\n",
    "    iFilePath = filedialog.askopenfilename(filetype = fTyp, initialdir = iFile)\n",
    "    entry2.set(iFilePath)\n",
    "\n",
    "# 実行ボタン押下時の実行関数\n",
    "def conductMain():\n",
    "    text = \"\"\n",
    "\n",
    "    dirPath = entry1.get()\n",
    "    filePath = entry2.get()\n",
    "    if dirPath:\n",
    "        text += \"フォルダパス：\" + dirPath + \"\\n\"\n",
    "        pdf_to_jpg(dirPath)\n",
    "    if filePath:\n",
    "        text += \"ファイルパス：\" + filePath\n",
    "    if text:\n",
    "        messagebox.showinfo(\"info\", text)\n",
    "    else:\n",
    "        messagebox.showerror(\"error\", \"パスの指定がありません。\")\n",
    "\n",
    "# pdfをjpegに変換\n",
    "def pdf_to_jpg(dirPath):\n",
    "    import glob\n",
    "    from pathlib import Path\n",
    "    from pdf2image import convert_from_path\n",
    "\n",
    "    # PDFファイルのパス\n",
    "    files = glob.glob(dirPath + \"/*\")\n",
    "    imageFile = \"./image_file\"\n",
    "    if not os.path.exists(imageFile):\n",
    "        os.makedirs(imageFile)\n",
    "    for file in files:\n",
    "        pdf_path = Path(file)\n",
    "        #outputのファイルパス\n",
    "        img_path=Path(imageFile)\n",
    "        #この1文で変換されたjpegファイルが、imageホルダー内に作られます。\n",
    "        convert_from_path(pdf_path, output_folder=img_path,fmt='jpeg',output_file=pdf_path.stem)\n",
    "\n",
    "if __name__ == \"__main__\":\n",
    "\n",
    "    # rootの作成\n",
    "    root = Tk()\n",
    "    root.title(\"サンプル\")\n",
    "\n",
    "    # Frame1の作成\n",
    "    frame1 = ttk.Frame(root, padding=10)\n",
    "    frame1.grid(row=0, column=1, sticky=E)\n",
    "\n",
    "    # 「フォルダ参照」ラベルの作成\n",
    "    IDirLabel = ttk.Label(frame1, text=\"フォルダ参照＞＞\", padding=(5, 2))\n",
    "    IDirLabel.pack(side=LEFT)\n",
    "\n",
    "    # 「フォルダ参照」エントリーの作成\n",
    "    entry1 = StringVar()\n",
    "    IDirEntry = ttk.Entry(frame1, textvariable=entry1, width=30)\n",
    "    IDirEntry.pack(side=LEFT)\n",
    "\n",
    "    # 「フォルダ参照」ボタンの作成\n",
    "    IDirButton = ttk.Button(frame1, text=\"参照\", command=dirdialog_clicked)\n",
    "    IDirButton.pack(side=LEFT)\n",
    "\n",
    "    # Frame2の作成\n",
    "    frame2 = ttk.Frame(root, padding=10)\n",
    "    frame2.grid(row=2, column=1, sticky=E)\n",
    "\n",
    "    # 「ファイル参照」ラベルの作成\n",
    "    IFileLabel = ttk.Label(frame2, text=\"ファイル参照＞＞\", padding=(5, 2))\n",
    "    IFileLabel.pack(side=LEFT)\n",
    "\n",
    "    # 「ファイル参照」エントリーの作成\n",
    "    entry2 = StringVar()\n",
    "    IFileEntry = ttk.Entry(frame2, textvariable=entry2, width=30)\n",
    "    IFileEntry.pack(side=LEFT)\n",
    "\n",
    "    # 「ファイル参照」ボタンの作成\n",
    "    IFileButton = ttk.Button(frame2, text=\"参照\", command=filedialog_clicked)\n",
    "    IFileButton.pack(side=LEFT)\n",
    "\n",
    "    # Frame3の作成\n",
    "    frame3 = ttk.Frame(root, padding=10)\n",
    "    frame3.grid(row=5,column=1,sticky=W)\n",
    "\n",
    "    # 実行ボタンの設置\n",
    "    button1 = ttk.Button(frame3, text=\"実行\", command=conductMain)\n",
    "    button1.pack(fill = \"x\", padx=30, side = \"left\")\n",
    "\n",
    "    # キャンセルボタンの設置\n",
    "    button2 = ttk.Button(frame3, text=(\"閉じる\"), command=quit)\n",
    "    button2.pack(fill = \"x\", padx=30, side = \"left\")\n",
    "    \n",
    "\n",
    "    root.mainloop()"
   ]
  },
  {
   "cell_type": "code",
   "execution_count": 8,
   "metadata": {},
   "outputs": [
    {
     "ename": "NameError",
     "evalue": "name 'dirPath' is not defined",
     "output_type": "error",
     "traceback": [
      "\u001b[0;31m---------------------------------------------------------------------------\u001b[0m",
      "\u001b[0;31mNameError\u001b[0m                                 Traceback (most recent call last)",
      "\u001b[0;32m<ipython-input-8-5cb4873d5bcd>\u001b[0m in \u001b[0;36m<module>\u001b[0;34m\u001b[0m\n\u001b[0;32m----> 1\u001b[0;31m \u001b[0mdirPath\u001b[0m\u001b[0;34m\u001b[0m\u001b[0;34m\u001b[0m\u001b[0m\n\u001b[0m",
      "\u001b[0;31mNameError\u001b[0m: name 'dirPath' is not defined"
     ]
    }
   ],
   "source": []
  },
  {
   "cell_type": "markdown",
   "metadata": {},
   "source": [
    "## 画像の表示"
   ]
  },
  {
   "cell_type": "code",
   "execution_count": 29,
   "metadata": {},
   "outputs": [],
   "source": [
    "#coding:utf-8\n",
    "import tkinter\n",
    "from PIL import Image, ImageTk\n",
    "\n",
    "# windowを描画\n",
    "window = tkinter.Tk()\n",
    "# windowサイズを変更\n",
    "window.geometry(\"1000x800\")\n",
    "# windowタイトルを設定\n",
    "window.title(\"Welcome to the Tkinter\")\n",
    "\n",
    "# 画像を表示するための準備\n",
    "img = Image.open('./img/word_cloud1.png')\n",
    "img = ImageTk.PhotoImage(img)\n",
    "# 画像を表示するためのキャンバスの作成（黒で表示）\n",
    "canvas = tkinter.Canvas(bg = \"black\", width=800, height=600)\n",
    "canvas.place(x=100, y=50) # 左上の座標を指定\n",
    "# キャンバスに画像を表示する。第一引数と第二引数は、x, yの座標\n",
    "canvas.create_image(30, 30, image=img, anchor=tkinter.NW)\n",
    "\n",
    "window.mainloop()"
   ]
  },
  {
   "cell_type": "code",
   "execution_count": null,
   "metadata": {},
   "outputs": [
    {
     "ename": "Error",
     "evalue": "Session cannot generate requests",
     "output_type": "error",
     "traceback": [
      "Error: Session cannot generate requests",
      "at w.executeCodeCell (/Users/yusuke-n/.vscode/extensions/ms-toolsai.jupyter-2021.6.999662501/out/client/extension.js:90:328422)",
      "at w.execute (/Users/yusuke-n/.vscode/extensions/ms-toolsai.jupyter-2021.6.999662501/out/client/extension.js:90:327811)",
      "at w.start (/Users/yusuke-n/.vscode/extensions/ms-toolsai.jupyter-2021.6.999662501/out/client/extension.js:90:323627)",
      "at runMicrotasks (<anonymous>)",
      "at processTicksAndRejections (internal/process/task_queues.js:93:5)",
      "at async t.CellExecutionQueue.executeQueuedCells (/Users/yusuke-n/.vscode/extensions/ms-toolsai.jupyter-2021.6.999662501/out/client/extension.js:90:338053)",
      "at async t.CellExecutionQueue.start (/Users/yusuke-n/.vscode/extensions/ms-toolsai.jupyter-2021.6.999662501/out/client/extension.js:90:337593)"
     ]
    }
   ],
   "source": [
    "def display_img(img_path): # 画像を表示する\n",
    "    # 画像を表示するための準備\n",
    "    img = Image.open(img_path)\n",
    "    img = ImageTk.PhotoImage(img)\n",
    "    # 画像を表示するためのキャンバスの作成（黒で表示）\n",
    "    canvas = tkinter.Canvas(bg = \"black\", width=800, height=600)\n",
    "    canvas.place(x=100, y=50) # 左上の座標を指定\n",
    "    # キャンバスに画像を表示する。第一引数と第二引数は、x, yの座標\n",
    "    canvas.create_image(30, 30, image=img, anchor=tkinter.NW)\n",
    "\n"
   ]
  },
  {
   "cell_type": "code",
   "execution_count": null,
   "metadata": {},
   "outputs": [],
   "source": []
  }
 ],
 "metadata": {
  "interpreter": {
   "hash": "31f2aee4e71d21fbe5cf8b01ff0e069b9275f58929596ceb00d14d90e3e16cd6"
  },
  "kernelspec": {
   "display_name": "Python 3.8.2 64-bit",
   "name": "python3"
  },
  "language_info": {
   "codemirror_mode": {
    "name": "ipython",
    "version": 3
   },
   "file_extension": ".py",
   "mimetype": "text/x-python",
   "name": "python",
   "nbconvert_exporter": "python",
   "pygments_lexer": "ipython3",
   "version": "3.8.2"
  },
  "orig_nbformat": 4
 },
 "nbformat": 4,
 "nbformat_minor": 2
}